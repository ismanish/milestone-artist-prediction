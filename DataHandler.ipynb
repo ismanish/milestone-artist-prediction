{
 "cells": [
  {
   "cell_type": "code",
   "execution_count": 1,
   "id": "61181df8-0b43-497e-a09c-aaf9bf4a2d00",
   "metadata": {},
   "outputs": [],
   "source": [
    "import glob\n",
    "import shutil\n",
    "import os\n",
    "import random\n",
    "from PIL import Image\n",
    "import matplotlib.pyplot as plt\n",
    "import numpy as np\n",
    "import pandas\n",
    "from google.cloud import storage\n",
    "import torch\n",
    "import shutil"
   ]
  },
  {
   "cell_type": "code",
   "execution_count": 2,
   "id": "9e838405-848c-4cb7-9d50-8af359f94ba9",
   "metadata": {},
   "outputs": [],
   "source": [
    "# ! pip install torch"
   ]
  },
  {
   "cell_type": "code",
   "execution_count": 3,
   "id": "a747aa91-99a1-4d19-b574-4ad050277db3",
   "metadata": {},
   "outputs": [
    {
     "name": "stdout",
     "output_type": "stream",
     "text": [
      "Using device: cuda:0\n"
     ]
    }
   ],
   "source": [
    "device = torch.device(\"cuda:0\" if torch.cuda.is_available() else \"cpu\")\n",
    "print(f\"Using device: {device}\")"
   ]
  },
  {
   "cell_type": "code",
   "execution_count": 4,
   "id": "ecb2c1b2-ecc8-4bbc-b71c-9b3a82a98424",
   "metadata": {},
   "outputs": [],
   "source": [
    "def list_blobs(bucket_name, path_to_credentials=None):\n",
    "\n",
    "    if path_to_credentials:\n",
    "        storage_client = storage.Client.from_service_account_json(path_to_credentials)\n",
    "    else:\n",
    "        storage_client = storage.Client()\n",
    "\n",
    "    blobs = storage_client.list_blobs(bucket_name)\n",
    "    return blobs"
   ]
  },
  {
   "cell_type": "code",
   "execution_count": 5,
   "id": "7b64eabc-a010-4177-9961-e6cebef05806",
   "metadata": {},
   "outputs": [],
   "source": [
    "def download_data_to_local_directory(bucket_name, local_directory,path_to_credentials=None):\n",
    "\n",
    "    if path_to_credentials:\n",
    "        storage_client = storage.Client.from_service_account_json(path_to_credentials)\n",
    "    else:\n",
    "        storage_client = storage.Client()\n",
    "        \n",
    "    blobs = storage_client.list_blobs(bucket_name)\n",
    "\n",
    "    if not os.path.isdir(local_directory):\n",
    "        os.makedirs(local_directory)\n",
    "\n",
    "    for blob in blobs:\n",
    "\n",
    "        joined_path = os.path.join(local_directory, blob.name)\n",
    "\n",
    "        if os.path.basename(joined_path) == '':\n",
    "            if not os.path.isdir(joined_path):\n",
    "                os.makedirs(joined_path)\n",
    "\n",
    "        else:\n",
    "            if not os.path.isfile(joined_path):\n",
    "                if not os.path.isdir(os.path.dirname(joined_path)):\n",
    "                    os.makedirs(os.path.dirname(joined_path))\n",
    "                    \n",
    "                blob.download_to_filename(joined_path)"
   ]
  },
  {
   "cell_type": "code",
   "execution_count": 6,
   "id": "5c5ef2d0-0c76-4695-bcf3-c5ccb331a600",
   "metadata": {},
   "outputs": [],
   "source": [
    "# if __name__ == '__main__':"
   ]
  },
  {
   "cell_type": "code",
   "execution_count": 7,
   "id": "aa75ddb3-8033-44c4-b85a-f54280ea0caf",
   "metadata": {},
   "outputs": [],
   "source": [
    "is_local_run = True  # Set this to False if running on Vertex AI\n",
    "\n",
    "service_account_path = None\n",
    "if is_local_run:\n",
    "    service_account_path = './credentials/ms_personal_gmail.json'\n",
    "\n",
    "list_blobs_switch = False\n",
    "download_data_switch = True"
   ]
  },
  {
   "cell_type": "code",
   "execution_count": 8,
   "id": "f2a760fd-3957-4c2c-a912-082d76f7b907",
   "metadata": {},
   "outputs": [],
   "source": [
    "if list_blobs_switch:\n",
    "    blobs =  list_blobs('wikiart_data_sample', service_account_path)\n",
    "    from itertools import islice\n",
    "    for blob in islice(blobs, 10):#blobs[:10]:\n",
    "        print(blob.name)"
   ]
  },
  {
   "cell_type": "code",
   "execution_count": 9,
   "id": "edfea7d8-ae51-417c-849a-193687fe397f",
   "metadata": {},
   "outputs": [],
   "source": [
    "# Remove a directory and all its contents\n",
    "# shutil.rmtree('./data')"
   ]
  },
  {
   "cell_type": "code",
   "execution_count": 10,
   "id": "6a10d616-2621-40ff-b21f-78725a062a64",
   "metadata": {},
   "outputs": [],
   "source": [
    "if download_data_switch:\n",
    "    download_data_to_local_directory(\"wikiart_data_sample\", \"./data\")"
   ]
  }
 ],
 "metadata": {
  "kernelspec": {
   "display_name": "PyTorch 1.13 (Local)",
   "language": "python",
   "name": "local-pytorch-1-13"
  },
  "language_info": {
   "codemirror_mode": {
    "name": "ipython",
    "version": 3
   },
   "file_extension": ".py",
   "mimetype": "text/x-python",
   "name": "python",
   "nbconvert_exporter": "python",
   "pygments_lexer": "ipython3",
   "version": "3.10.12"
  }
 },
 "nbformat": 4,
 "nbformat_minor": 5
}
